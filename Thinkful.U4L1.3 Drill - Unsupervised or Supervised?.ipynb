{
 "cells": [
  {
   "cell_type": "markdown",
   "metadata": {},
   "source": [
    "For each of these scenarios decide if you could use supervised or unsupervised techniques, or both!\n",
    "\n",
    "1. Define the likelihood that an individual will contract a specific disease.\n",
    "\n",
    "    Supervised Learning; can evaluate whether the individual contracts or doesn't contract.\n",
    "\n",
    "2. Translate a set of images into variables for modeling.\n",
    "\n",
    "    Unsupervised Learning\n",
    "\n",
    "3. An ecommerce company wants to identify power users.\n",
    "\n",
    "    Supervised Learning; you can determine which are power users and which are not.\n",
    "\n",
    "4. That same company wants to see shopping patterns in users.\n",
    "\n",
    "    Unsupervised Learning; looks for patterns and no specific outcome.\n",
    "\n",
    "5. You want to reduce the number of variables inputting into your random forest model.\n",
    "\n",
    "    Unsupervised Learning; sounds a lot like PCA, which is an unsupervised method."
   ]
  }
 ],
 "metadata": {
  "kernelspec": {
   "display_name": "Python 3",
   "language": "python",
   "name": "python3"
  },
  "language_info": {
   "codemirror_mode": {
    "name": "ipython",
    "version": 3
   },
   "file_extension": ".py",
   "mimetype": "text/x-python",
   "name": "python",
   "nbconvert_exporter": "python",
   "pygments_lexer": "ipython3",
   "version": "3.6.1"
  }
 },
 "nbformat": 4,
 "nbformat_minor": 2
}
